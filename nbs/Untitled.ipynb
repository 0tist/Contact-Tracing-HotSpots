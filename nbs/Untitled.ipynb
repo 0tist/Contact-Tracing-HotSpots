{
 "cells": [
  {
   "cell_type": "code",
   "execution_count": 7,
   "metadata": {},
   "outputs": [],
   "source": [
    "import geopandas as gpd\n",
    "import pandas as pd\n",
    "\n",
    "data = \"/Users/jay.0tist/Documents/Projects/OppoNets/Contact-Tracing-HotSpots/data/\""
   ]
  },
  {
   "cell_type": "code",
   "execution_count": 8,
   "metadata": {},
   "outputs": [
    {
     "data": {
      "text/html": [
       "<div>\n",
       "<style scoped>\n",
       "    .dataframe tbody tr th:only-of-type {\n",
       "        vertical-align: middle;\n",
       "    }\n",
       "\n",
       "    .dataframe tbody tr th {\n",
       "        vertical-align: top;\n",
       "    }\n",
       "\n",
       "    .dataframe thead th {\n",
       "        text-align: right;\n",
       "    }\n",
       "</style>\n",
       "<table border=\"1\" class=\"dataframe\">\n",
       "  <thead>\n",
       "    <tr style=\"text-align: right;\">\n",
       "      <th></th>\n",
       "      <th>Unnamed: 0</th>\n",
       "      <th>objectid</th>\n",
       "      <th>State</th>\n",
       "      <th>District</th>\n",
       "      <th>st_area(sh</th>\n",
       "      <th>st_length(</th>\n",
       "      <th>geometry</th>\n",
       "      <th>Confirmed</th>\n",
       "      <th>Active</th>\n",
       "      <th>Recovered</th>\n",
       "      <th>Deceased</th>\n",
       "      <th>Zone</th>\n",
       "    </tr>\n",
       "  </thead>\n",
       "  <tbody>\n",
       "    <tr>\n",
       "      <th>0</th>\n",
       "      <td>0</td>\n",
       "      <td>1</td>\n",
       "      <td>Maharashtra</td>\n",
       "      <td>Jalgaon</td>\n",
       "      <td>1.353967e+10</td>\n",
       "      <td>8.464308e+05</td>\n",
       "      <td>POLYGON ((75.23334519067033 21.41480953559289,...</td>\n",
       "      <td>50098</td>\n",
       "      <td>5387</td>\n",
       "      <td>43426</td>\n",
       "      <td>1285</td>\n",
       "      <td>Red</td>\n",
       "    </tr>\n",
       "    <tr>\n",
       "      <th>1</th>\n",
       "      <td>1</td>\n",
       "      <td>2</td>\n",
       "      <td>Maharashtra</td>\n",
       "      <td>Nashik</td>\n",
       "      <td>1.771358e+10</td>\n",
       "      <td>9.720056e+05</td>\n",
       "      <td>POLYGON ((74.13013381299649 20.86311429677081,...</td>\n",
       "      <td>82865</td>\n",
       "      <td>13676</td>\n",
       "      <td>67784</td>\n",
       "      <td>1405</td>\n",
       "      <td>Red</td>\n",
       "    </tr>\n",
       "    <tr>\n",
       "      <th>2</th>\n",
       "      <td>2</td>\n",
       "      <td>3</td>\n",
       "      <td>Maharashtra</td>\n",
       "      <td>Chandrapur</td>\n",
       "      <td>1.294532e+10</td>\n",
       "      <td>7.410244e+05</td>\n",
       "      <td>POLYGON ((79.7575537026844 20.73462226435134, ...</td>\n",
       "      <td>11822</td>\n",
       "      <td>3574</td>\n",
       "      <td>8091</td>\n",
       "      <td>157</td>\n",
       "      <td>Orange</td>\n",
       "    </tr>\n",
       "    <tr>\n",
       "      <th>3</th>\n",
       "      <td>3</td>\n",
       "      <td>4</td>\n",
       "      <td>Maharashtra</td>\n",
       "      <td>Yavatmal</td>\n",
       "      <td>1.547940e+10</td>\n",
       "      <td>1.014942e+06</td>\n",
       "      <td>POLYGON ((78.26132288530391 20.69734885711211,...</td>\n",
       "      <td>9472</td>\n",
       "      <td>1510</td>\n",
       "      <td>7702</td>\n",
       "      <td>260</td>\n",
       "      <td>Red</td>\n",
       "    </tr>\n",
       "    <tr>\n",
       "      <th>4</th>\n",
       "      <td>4</td>\n",
       "      <td>5</td>\n",
       "      <td>Maharashtra</td>\n",
       "      <td>Nanded</td>\n",
       "      <td>1.186387e+10</td>\n",
       "      <td>1.131732e+06</td>\n",
       "      <td>POLYGON ((78.05386547119404 19.92451783594126,...</td>\n",
       "      <td>17148</td>\n",
       "      <td>4312</td>\n",
       "      <td>12390</td>\n",
       "      <td>446</td>\n",
       "      <td>Orange</td>\n",
       "    </tr>\n",
       "  </tbody>\n",
       "</table>\n",
       "</div>"
      ],
      "text/plain": [
       "   Unnamed: 0  objectid        State    District    st_area(sh    st_length(  \\\n",
       "0           0         1  Maharashtra     Jalgaon  1.353967e+10  8.464308e+05   \n",
       "1           1         2  Maharashtra      Nashik  1.771358e+10  9.720056e+05   \n",
       "2           2         3  Maharashtra  Chandrapur  1.294532e+10  7.410244e+05   \n",
       "3           3         4  Maharashtra    Yavatmal  1.547940e+10  1.014942e+06   \n",
       "4           4         5  Maharashtra      Nanded  1.186387e+10  1.131732e+06   \n",
       "\n",
       "                                            geometry  Confirmed  Active  \\\n",
       "0  POLYGON ((75.23334519067033 21.41480953559289,...      50098    5387   \n",
       "1  POLYGON ((74.13013381299649 20.86311429677081,...      82865   13676   \n",
       "2  POLYGON ((79.7575537026844 20.73462226435134, ...      11822    3574   \n",
       "3  POLYGON ((78.26132288530391 20.69734885711211,...       9472    1510   \n",
       "4  POLYGON ((78.05386547119404 19.92451783594126,...      17148    4312   \n",
       "\n",
       "   Recovered  Deceased    Zone  \n",
       "0      43426      1285     Red  \n",
       "1      67784      1405     Red  \n",
       "2       8091       157  Orange  \n",
       "3       7702       260     Red  \n",
       "4      12390       446  Orange  "
      ]
     },
     "execution_count": 8,
     "metadata": {},
     "output_type": "execute_result"
    }
   ],
   "source": [
    "df = pd.read_csv(data + 'all.csv')\n",
    "df.head()"
   ]
  },
  {
   "cell_type": "code",
   "execution_count": 9,
   "metadata": {},
   "outputs": [
    {
     "data": {
      "text/plain": [
       "Index(['Unnamed: 0', 'objectid', 'State', 'District', 'st_area(sh',\n",
       "       'st_length(', 'geometry', 'Confirmed', 'Active', 'Recovered',\n",
       "       'Deceased', 'Zone'],\n",
       "      dtype='object')"
      ]
     },
     "execution_count": 9,
     "metadata": {},
     "output_type": "execute_result"
    }
   ],
   "source": [
    "df.columns "
   ]
  },
  {
   "cell_type": "code",
   "execution_count": 43,
   "metadata": {},
   "outputs": [],
   "source": [
    "df['District'].replace({\n",
    "    'Nashik': 'Nasik',\n",
    "    'Kalaburagi': 'Gulbarga',\n",
    "    'Bagalkote': 'Bagalkot',\n",
    "    'Prakasam': 'Ongole',\n",
    "    'South Goa': 'Margao',\n",
    "    'S.P.S. Nellore': 'Nellore',\n",
    "    'Dakshina Kannada': 'Mangalore',\n",
    "    'Thoothukkudi': 'Tuticorin',\n",
    "    'Dakshin Bastar Dantewada': 'Dantewara'\n",
    "}, inplace=True)"
   ]
  },
  {
   "cell_type": "code",
   "execution_count": 35,
   "metadata": {},
   "outputs": [],
   "source": [
    "# df = df.drop(columns = ['Unnamed: 0', 'objectid'])\n",
    "df = df[df.District != 'Davanagere']\n",
    "df = df[df.District != 'Chikkaballapura']\n",
    "df = df[df.District != 'Bengaluru Rural']\n",
    "df = df[df.District != 'Bengaluru Urban']\n",
    "df = df[df.District != 'Wayanad']\n",
    "df = df[df.District != 'Theni']"
   ]
  },
  {
   "cell_type": "code",
   "execution_count": 6,
   "metadata": {},
   "outputs": [],
   "source": [
    "import requests\n",
    "import json\n",
    "\n",
    "def get_city_opendata(city, country):\n",
    "    tmp = 'https://public.opendatasoft.com/api/records/1.0/search/?dataset=worldcitiespop&q=%s&sort=population&facet=country&refine.country=%s'\n",
    "    cmd = tmp % (city, country)\n",
    "    res = requests.get(cmd)\n",
    "    dct = json.loads(res.content)\n",
    "    out = dct['records'][0]['fields']\n",
    "    return out"
   ]
  },
  {
   "cell_type": "code",
   "execution_count": 44,
   "metadata": {},
   "outputs": [
    {
     "name": "stdout",
     "output_type": "stream",
     "text": [
      "0\n",
      "Jalgaon\n",
      "1\n",
      "Nasik\n",
      "2\n",
      "Chandrapur\n",
      "3\n",
      "Yavatmal\n",
      "4\n",
      "Nanded\n",
      "5\n",
      "Pune\n",
      "6\n",
      "Srikakulam\n",
      "7\n",
      "Visakhapatnam\n",
      "8\n",
      "Bidar\n",
      "9\n",
      "Gulbarga\n",
      "10\n",
      "Sangli\n",
      "11\n",
      "Krishna\n",
      "12\n",
      "Yadgir\n",
      "13\n",
      "Bagalkot\n",
      "14\n",
      "Guntur\n",
      "15\n",
      "East Godavari\n",
      "16\n",
      "Ongole\n",
      "17\n",
      "Kurnool\n",
      "18\n",
      "Gadag\n",
      "19\n",
      "Ballari\n",
      "20\n",
      "Dharwad\n",
      "21\n",
      "Margao\n",
      "22\n",
      "Nellore\n",
      "23\n",
      "Chitradurga\n",
      "24\n",
      "Udupi\n",
      "25\n",
      "Hassan\n",
      "26\n",
      "Kolar\n",
      "27\n",
      "Mangalore\n",
      "28\n",
      "Vellore\n",
      "29\n",
      "Chennai\n",
      "30\n",
      "Kancheepuram\n",
      "31\n",
      "Kasaragod\n",
      "32\n",
      "Tiruvannamalai\n",
      "33\n",
      "Erode\n",
      "34\n",
      "Kozhikode\n",
      "35\n",
      "Coimbatore\n",
      "36\n",
      "Thiruvarur\n",
      "37\n",
      "Thrissur\n",
      "38\n",
      "Idukki\n",
      "39\n",
      "Ernakulam\n",
      "40\n",
      "Madurai\n",
      "41\n",
      "Alappuzha\n",
      "42\n",
      "Kottayam\n",
      "43\n",
      "Pathanamthitta\n",
      "44\n",
      "Tuticorin\n",
      "45\n",
      "Kollam\n",
      "46\n",
      "Thiruvananthapuram\n",
      "47\n",
      "Kanyakumari\n",
      "48\n",
      "West Godavari\n",
      "49\n",
      "Dantewara\n",
      "50\n",
      "Kondagaon\n",
      "51\n",
      "Raipur\n",
      "52\n",
      "Durg\n",
      "53\n",
      "Thane\n",
      "54\n",
      "Adilabad\n",
      "55\n",
      "Karimnagar\n",
      "56\n",
      "Khammam\n",
      "57\n",
      "Mahabubnagar\n"
     ]
    },
    {
     "ename": "IndexError",
     "evalue": "list index out of range",
     "output_type": "error",
     "traceback": [
      "\u001b[0;31m---------------------------------------------------------------------------\u001b[0m",
      "\u001b[0;31mIndexError\u001b[0m                                Traceback (most recent call last)",
      "\u001b[0;32m<ipython-input-44-d51bed4d47e8>\u001b[0m in \u001b[0;36m<module>\u001b[0;34m\u001b[0m\n\u001b[1;32m      3\u001b[0m     \u001b[0mprint\u001b[0m\u001b[0;34m(\u001b[0m\u001b[0mi\u001b[0m\u001b[0;34m)\u001b[0m\u001b[0;34m\u001b[0m\u001b[0;34m\u001b[0m\u001b[0m\n\u001b[1;32m      4\u001b[0m     \u001b[0mprint\u001b[0m\u001b[0;34m(\u001b[0m\u001b[0mdistr\u001b[0m\u001b[0;34m)\u001b[0m\u001b[0;34m\u001b[0m\u001b[0;34m\u001b[0m\u001b[0m\n\u001b[0;32m----> 5\u001b[0;31m     \u001b[0minfo\u001b[0m \u001b[0;34m=\u001b[0m \u001b[0mget_city_opendata\u001b[0m\u001b[0;34m(\u001b[0m\u001b[0mdistr\u001b[0m\u001b[0;34m,\u001b[0m \u001b[0;34m'in'\u001b[0m\u001b[0;34m)\u001b[0m\u001b[0;34m\u001b[0m\u001b[0;34m\u001b[0m\u001b[0m\n\u001b[0m\u001b[1;32m      6\u001b[0m     \u001b[0;32mif\u001b[0m \u001b[0;34m'population'\u001b[0m \u001b[0;32min\u001b[0m \u001b[0minfo\u001b[0m\u001b[0;34m.\u001b[0m\u001b[0mkeys\u001b[0m\u001b[0;34m(\u001b[0m\u001b[0;34m)\u001b[0m\u001b[0;34m:\u001b[0m\u001b[0;34m\u001b[0m\u001b[0;34m\u001b[0m\u001b[0m\n\u001b[1;32m      7\u001b[0m         \u001b[0mpopulation\u001b[0m\u001b[0;34m.\u001b[0m\u001b[0mappend\u001b[0m\u001b[0;34m(\u001b[0m\u001b[0minfo\u001b[0m\u001b[0;34m[\u001b[0m\u001b[0;34m'population'\u001b[0m\u001b[0;34m]\u001b[0m\u001b[0;34m)\u001b[0m\u001b[0;34m\u001b[0m\u001b[0;34m\u001b[0m\u001b[0m\n",
      "\u001b[0;32m<ipython-input-6-9aa792ed7b96>\u001b[0m in \u001b[0;36mget_city_opendata\u001b[0;34m(city, country)\u001b[0m\n\u001b[1;32m      7\u001b[0m     \u001b[0mres\u001b[0m \u001b[0;34m=\u001b[0m \u001b[0mrequests\u001b[0m\u001b[0;34m.\u001b[0m\u001b[0mget\u001b[0m\u001b[0;34m(\u001b[0m\u001b[0mcmd\u001b[0m\u001b[0;34m)\u001b[0m\u001b[0;34m\u001b[0m\u001b[0;34m\u001b[0m\u001b[0m\n\u001b[1;32m      8\u001b[0m     \u001b[0mdct\u001b[0m \u001b[0;34m=\u001b[0m \u001b[0mjson\u001b[0m\u001b[0;34m.\u001b[0m\u001b[0mloads\u001b[0m\u001b[0;34m(\u001b[0m\u001b[0mres\u001b[0m\u001b[0;34m.\u001b[0m\u001b[0mcontent\u001b[0m\u001b[0;34m)\u001b[0m\u001b[0;34m\u001b[0m\u001b[0;34m\u001b[0m\u001b[0m\n\u001b[0;32m----> 9\u001b[0;31m     \u001b[0mout\u001b[0m \u001b[0;34m=\u001b[0m \u001b[0mdct\u001b[0m\u001b[0;34m[\u001b[0m\u001b[0;34m'records'\u001b[0m\u001b[0;34m]\u001b[0m\u001b[0;34m[\u001b[0m\u001b[0;36m0\u001b[0m\u001b[0;34m]\u001b[0m\u001b[0;34m[\u001b[0m\u001b[0;34m'fields'\u001b[0m\u001b[0;34m]\u001b[0m\u001b[0;34m\u001b[0m\u001b[0;34m\u001b[0m\u001b[0m\n\u001b[0m\u001b[1;32m     10\u001b[0m     \u001b[0;32mreturn\u001b[0m \u001b[0mout\u001b[0m\u001b[0;34m\u001b[0m\u001b[0;34m\u001b[0m\u001b[0m\n",
      "\u001b[0;31mIndexError\u001b[0m: list index out of range"
     ]
    }
   ],
   "source": [
    "population = []\n",
    "for i, distr in enumerate(df['District']):\n",
    "    print(i)\n",
    "    print(distr)\n",
    "    info = get_city_opendata(distr, 'in')\n",
    "    if 'population' in info.keys():\n",
    "        population.append(info['population'])\n",
    "    else:\n",
    "        population.append(0)"
   ]
  },
  {
   "cell_type": "code",
   "execution_count": 42,
   "metadata": {},
   "outputs": [
    {
     "data": {
      "text/plain": [
       "{'city': 'dantewara',\n",
       " 'country': 'in',\n",
       " 'region': '37',\n",
       " 'geopoint': [18.9, 81.35],\n",
       " 'longitude': 81.35,\n",
       " 'latitude': 18.9,\n",
       " 'accentcity': 'Dantewara'}"
      ]
     },
     "execution_count": 42,
     "metadata": {},
     "output_type": "execute_result"
    }
   ],
   "source": [
    "get_city_opendata('Dantewara', 'in')"
   ]
  },
  {
   "cell_type": "code",
   "execution_count": 14,
   "metadata": {},
   "outputs": [
    {
     "data": {
      "text/plain": [
       "721"
      ]
     },
     "execution_count": 14,
     "metadata": {},
     "output_type": "execute_result"
    }
   ],
   "source": [
    "len(df['District'])"
   ]
  },
  {
   "cell_type": "code",
   "execution_count": 30,
   "metadata": {},
   "outputs": [
    {
     "data": {
      "text/plain": [
       "[27796,\n",
       " 0,\n",
       " 328377,\n",
       " 128185,\n",
       " 485150,\n",
       " 2935968,\n",
       " 118312,\n",
       " 1063293,\n",
       " 204088,\n",
       " 483655,\n",
       " 0,\n",
       " 145941,\n",
       " 65381,\n",
       " 97277,\n",
       " 530636,\n",
       " 0,\n",
       " 172891,\n",
       " 0,\n",
       " 162583,\n",
       " 0,\n",
       " 0,\n",
       " 0,\n",
       " 0,\n",
       " 138599,\n",
       " 129124,\n",
       " 128542,\n",
       " 126452,\n",
       " 0,\n",
       " 0,\n",
       " 0,\n",
       " 0,\n",
       " 53313,\n",
       " 138255]"
      ]
     },
     "execution_count": 30,
     "metadata": {},
     "output_type": "execute_result"
    }
   ],
   "source": [
    "population"
   ]
  },
  {
   "cell_type": "code",
   "execution_count": null,
   "metadata": {},
   "outputs": [],
   "source": []
  }
 ],
 "metadata": {
  "kernelspec": {
   "display_name": "Python 3",
   "language": "python",
   "name": "python3"
  },
  "language_info": {
   "codemirror_mode": {
    "name": "ipython",
    "version": 3
   },
   "file_extension": ".py",
   "mimetype": "text/x-python",
   "name": "python",
   "nbconvert_exporter": "python",
   "pygments_lexer": "ipython3",
   "version": "3.8.5"
  }
 },
 "nbformat": 4,
 "nbformat_minor": 4
}
